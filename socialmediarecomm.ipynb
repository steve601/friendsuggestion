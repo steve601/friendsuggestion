{
 "cells": [
  {
   "cell_type": "markdown",
   "id": "240cf8ca",
   "metadata": {},
   "source": [
    "## Social-Media-Users-Dataset\n",
    "### The Ultimate Dummy Users Dataset for Social Media Recommendation Models"
   ]
  },
  {
   "cell_type": "code",
   "execution_count": 1,
   "id": "c24e9415",
   "metadata": {},
   "outputs": [],
   "source": [
    "import pandas as pd\n",
    "import numpy as np\n",
    "import warnings\n",
    "warnings.filterwarnings(\"ignore\")"
   ]
  },
  {
   "cell_type": "markdown",
   "id": "7b5f2a13",
   "metadata": {},
   "source": [
    "## Loading the data"
   ]
  },
  {
   "cell_type": "code",
   "execution_count": 2,
   "id": "c4074fba",
   "metadata": {},
   "outputs": [
    {
     "data": {
      "text/html": [
       "<div>\n",
       "<style scoped>\n",
       "    .dataframe tbody tr th:only-of-type {\n",
       "        vertical-align: middle;\n",
       "    }\n",
       "\n",
       "    .dataframe tbody tr th {\n",
       "        vertical-align: top;\n",
       "    }\n",
       "\n",
       "    .dataframe thead th {\n",
       "        text-align: right;\n",
       "    }\n",
       "</style>\n",
       "<table border=\"1\" class=\"dataframe\">\n",
       "  <thead>\n",
       "    <tr style=\"text-align: right;\">\n",
       "      <th></th>\n",
       "      <th>UserID</th>\n",
       "      <th>Name</th>\n",
       "      <th>Gender</th>\n",
       "      <th>DOB</th>\n",
       "      <th>Interests</th>\n",
       "      <th>City</th>\n",
       "      <th>Country</th>\n",
       "    </tr>\n",
       "  </thead>\n",
       "  <tbody>\n",
       "    <tr>\n",
       "      <th>0</th>\n",
       "      <td>1</td>\n",
       "      <td>Jesse Lawhorn</td>\n",
       "      <td>Female</td>\n",
       "      <td>1958-10-15</td>\n",
       "      <td>'Movies', 'Fashion', 'Fashion', 'Books'</td>\n",
       "      <td>Sibolga</td>\n",
       "      <td>Indonesia</td>\n",
       "    </tr>\n",
       "    <tr>\n",
       "      <th>1</th>\n",
       "      <td>2</td>\n",
       "      <td>Stacy Payne</td>\n",
       "      <td>Female</td>\n",
       "      <td>2004-07-21</td>\n",
       "      <td>'Gaming', 'Finance and investments', 'Outdoor ...</td>\n",
       "      <td>Al Abyār</td>\n",
       "      <td>Libya</td>\n",
       "    </tr>\n",
       "    <tr>\n",
       "      <th>2</th>\n",
       "      <td>3</td>\n",
       "      <td>Katrina Nicewander</td>\n",
       "      <td>Female</td>\n",
       "      <td>2000-02-07</td>\n",
       "      <td>'DIY and crafts', 'Music', 'Science', 'Fashion'</td>\n",
       "      <td>Wādī as Sīr</td>\n",
       "      <td>Jordan</td>\n",
       "    </tr>\n",
       "    <tr>\n",
       "      <th>3</th>\n",
       "      <td>4</td>\n",
       "      <td>Eric Yarbrough</td>\n",
       "      <td>Male</td>\n",
       "      <td>1985-04-14</td>\n",
       "      <td>'Outdoor activities', 'Cars and automobiles'</td>\n",
       "      <td>Matera</td>\n",
       "      <td>Italy</td>\n",
       "    </tr>\n",
       "    <tr>\n",
       "      <th>4</th>\n",
       "      <td>5</td>\n",
       "      <td>Daniel Adkins</td>\n",
       "      <td>Female</td>\n",
       "      <td>1955-09-18</td>\n",
       "      <td>'Politics', 'History'</td>\n",
       "      <td>Biruaca</td>\n",
       "      <td>Venezuela</td>\n",
       "    </tr>\n",
       "  </tbody>\n",
       "</table>\n",
       "</div>"
      ],
      "text/plain": [
       "   UserID                Name  Gender         DOB  \\\n",
       "0       1       Jesse Lawhorn  Female  1958-10-15   \n",
       "1       2         Stacy Payne  Female  2004-07-21   \n",
       "2       3  Katrina Nicewander  Female  2000-02-07   \n",
       "3       4      Eric Yarbrough    Male  1985-04-14   \n",
       "4       5       Daniel Adkins  Female  1955-09-18   \n",
       "\n",
       "                                           Interests         City    Country  \n",
       "0            'Movies', 'Fashion', 'Fashion', 'Books'      Sibolga  Indonesia  \n",
       "1  'Gaming', 'Finance and investments', 'Outdoor ...     Al Abyār      Libya  \n",
       "2    'DIY and crafts', 'Music', 'Science', 'Fashion'  Wādī as Sīr     Jordan  \n",
       "3       'Outdoor activities', 'Cars and automobiles'       Matera      Italy  \n",
       "4                              'Politics', 'History'      Biruaca  Venezuela  "
      ]
     },
     "execution_count": 2,
     "metadata": {},
     "output_type": "execute_result"
    }
   ],
   "source": [
    "df = pd.read_csv('SocialMediaUsersDataset.csv')\n",
    "df.head()"
   ]
  },
  {
   "cell_type": "markdown",
   "id": "8b621083",
   "metadata": {},
   "source": [
    "### selecting a subset of the data"
   ]
  },
  {
   "cell_type": "code",
   "execution_count": 3,
   "id": "992de1ea",
   "metadata": {},
   "outputs": [],
   "source": [
    "df = df[:5000]"
   ]
  },
  {
   "cell_type": "code",
   "execution_count": 4,
   "id": "c78e2285",
   "metadata": {
    "scrolled": true
   },
   "outputs": [
    {
     "name": "stdout",
     "output_type": "stream",
     "text": [
      "<class 'pandas.core.frame.DataFrame'>\n",
      "RangeIndex: 5000 entries, 0 to 4999\n",
      "Data columns (total 7 columns):\n",
      " #   Column     Non-Null Count  Dtype \n",
      "---  ------     --------------  ----- \n",
      " 0   UserID     5000 non-null   int64 \n",
      " 1   Name       5000 non-null   object\n",
      " 2   Gender     5000 non-null   object\n",
      " 3   DOB        5000 non-null   object\n",
      " 4   Interests  5000 non-null   object\n",
      " 5   City       5000 non-null   object\n",
      " 6   Country    5000 non-null   object\n",
      "dtypes: int64(1), object(6)\n",
      "memory usage: 273.6+ KB\n"
     ]
    }
   ],
   "source": [
    "df.info()"
   ]
  },
  {
   "cell_type": "code",
   "execution_count": 5,
   "id": "80369d22",
   "metadata": {},
   "outputs": [
    {
     "data": {
      "text/plain": [
       "0"
      ]
     },
     "execution_count": 5,
     "metadata": {},
     "output_type": "execute_result"
    }
   ],
   "source": [
    "df.duplicated().sum()"
   ]
  },
  {
   "cell_type": "code",
   "execution_count": 6,
   "id": "cbe6f3ec",
   "metadata": {},
   "outputs": [],
   "source": [
    "df.columns = df.columns.str.lower()\n",
    "df = df[['userid','name','gender','interests','city','country']]"
   ]
  },
  {
   "cell_type": "code",
   "execution_count": 7,
   "id": "a5f56cc2",
   "metadata": {},
   "outputs": [
    {
     "data": {
      "text/html": [
       "<div>\n",
       "<style scoped>\n",
       "    .dataframe tbody tr th:only-of-type {\n",
       "        vertical-align: middle;\n",
       "    }\n",
       "\n",
       "    .dataframe tbody tr th {\n",
       "        vertical-align: top;\n",
       "    }\n",
       "\n",
       "    .dataframe thead th {\n",
       "        text-align: right;\n",
       "    }\n",
       "</style>\n",
       "<table border=\"1\" class=\"dataframe\">\n",
       "  <thead>\n",
       "    <tr style=\"text-align: right;\">\n",
       "      <th></th>\n",
       "      <th>userid</th>\n",
       "      <th>name</th>\n",
       "      <th>gender</th>\n",
       "      <th>interests</th>\n",
       "      <th>city</th>\n",
       "      <th>country</th>\n",
       "    </tr>\n",
       "  </thead>\n",
       "  <tbody>\n",
       "    <tr>\n",
       "      <th>0</th>\n",
       "      <td>1</td>\n",
       "      <td>Jesse Lawhorn</td>\n",
       "      <td>Female</td>\n",
       "      <td>'Movies', 'Fashion', 'Fashion', 'Books'</td>\n",
       "      <td>Sibolga</td>\n",
       "      <td>Indonesia</td>\n",
       "    </tr>\n",
       "    <tr>\n",
       "      <th>1</th>\n",
       "      <td>2</td>\n",
       "      <td>Stacy Payne</td>\n",
       "      <td>Female</td>\n",
       "      <td>'Gaming', 'Finance and investments', 'Outdoor ...</td>\n",
       "      <td>Al Abyār</td>\n",
       "      <td>Libya</td>\n",
       "    </tr>\n",
       "    <tr>\n",
       "      <th>2</th>\n",
       "      <td>3</td>\n",
       "      <td>Katrina Nicewander</td>\n",
       "      <td>Female</td>\n",
       "      <td>'DIY and crafts', 'Music', 'Science', 'Fashion'</td>\n",
       "      <td>Wādī as Sīr</td>\n",
       "      <td>Jordan</td>\n",
       "    </tr>\n",
       "    <tr>\n",
       "      <th>3</th>\n",
       "      <td>4</td>\n",
       "      <td>Eric Yarbrough</td>\n",
       "      <td>Male</td>\n",
       "      <td>'Outdoor activities', 'Cars and automobiles'</td>\n",
       "      <td>Matera</td>\n",
       "      <td>Italy</td>\n",
       "    </tr>\n",
       "    <tr>\n",
       "      <th>4</th>\n",
       "      <td>5</td>\n",
       "      <td>Daniel Adkins</td>\n",
       "      <td>Female</td>\n",
       "      <td>'Politics', 'History'</td>\n",
       "      <td>Biruaca</td>\n",
       "      <td>Venezuela</td>\n",
       "    </tr>\n",
       "  </tbody>\n",
       "</table>\n",
       "</div>"
      ],
      "text/plain": [
       "   userid                name  gender  \\\n",
       "0       1       Jesse Lawhorn  Female   \n",
       "1       2         Stacy Payne  Female   \n",
       "2       3  Katrina Nicewander  Female   \n",
       "3       4      Eric Yarbrough    Male   \n",
       "4       5       Daniel Adkins  Female   \n",
       "\n",
       "                                           interests         city    country  \n",
       "0            'Movies', 'Fashion', 'Fashion', 'Books'      Sibolga  Indonesia  \n",
       "1  'Gaming', 'Finance and investments', 'Outdoor ...     Al Abyār      Libya  \n",
       "2    'DIY and crafts', 'Music', 'Science', 'Fashion'  Wādī as Sīr     Jordan  \n",
       "3       'Outdoor activities', 'Cars and automobiles'       Matera      Italy  \n",
       "4                              'Politics', 'History'      Biruaca  Venezuela  "
      ]
     },
     "execution_count": 7,
     "metadata": {},
     "output_type": "execute_result"
    }
   ],
   "source": [
    "df.head()"
   ]
  },
  {
   "cell_type": "markdown",
   "id": "dbb2228a",
   "metadata": {},
   "source": [
    "### concatenating the info. of persons into one column so as to perform text preprocessing"
   ]
  },
  {
   "cell_type": "code",
   "execution_count": 8,
   "id": "0b9cbf85",
   "metadata": {},
   "outputs": [],
   "source": [
    "df.gender = df.gender.apply(lambda x: x.split())\n",
    "df.interests = df.interests.apply(lambda x: x.split())\n",
    "df.city = df.city.apply(lambda x: x.split())\n",
    "df.country = df.country.apply(lambda x: x.split())"
   ]
  },
  {
   "cell_type": "code",
   "execution_count": 9,
   "id": "32d631ef",
   "metadata": {},
   "outputs": [
    {
     "data": {
      "text/html": [
       "<div>\n",
       "<style scoped>\n",
       "    .dataframe tbody tr th:only-of-type {\n",
       "        vertical-align: middle;\n",
       "    }\n",
       "\n",
       "    .dataframe tbody tr th {\n",
       "        vertical-align: top;\n",
       "    }\n",
       "\n",
       "    .dataframe thead th {\n",
       "        text-align: right;\n",
       "    }\n",
       "</style>\n",
       "<table border=\"1\" class=\"dataframe\">\n",
       "  <thead>\n",
       "    <tr style=\"text-align: right;\">\n",
       "      <th></th>\n",
       "      <th>userid</th>\n",
       "      <th>name</th>\n",
       "      <th>gender</th>\n",
       "      <th>interests</th>\n",
       "      <th>city</th>\n",
       "      <th>country</th>\n",
       "      <th>details</th>\n",
       "    </tr>\n",
       "  </thead>\n",
       "  <tbody>\n",
       "    <tr>\n",
       "      <th>0</th>\n",
       "      <td>1</td>\n",
       "      <td>Jesse Lawhorn</td>\n",
       "      <td>[Female]</td>\n",
       "      <td>['Movies',, 'Fashion',, 'Fashion',, 'Books']</td>\n",
       "      <td>[Sibolga]</td>\n",
       "      <td>[Indonesia]</td>\n",
       "      <td>[Female, 'Movies',, 'Fashion',, 'Fashion',, 'B...</td>\n",
       "    </tr>\n",
       "    <tr>\n",
       "      <th>1</th>\n",
       "      <td>2</td>\n",
       "      <td>Stacy Payne</td>\n",
       "      <td>[Female]</td>\n",
       "      <td>['Gaming',, 'Finance, and, investments',, 'Out...</td>\n",
       "      <td>[Al, Abyār]</td>\n",
       "      <td>[Libya]</td>\n",
       "      <td>[Female, 'Gaming',, 'Finance, and, investments...</td>\n",
       "    </tr>\n",
       "    <tr>\n",
       "      <th>2</th>\n",
       "      <td>3</td>\n",
       "      <td>Katrina Nicewander</td>\n",
       "      <td>[Female]</td>\n",
       "      <td>['DIY, and, crafts',, 'Music',, 'Science',, 'F...</td>\n",
       "      <td>[Wādī, as, Sīr]</td>\n",
       "      <td>[Jordan]</td>\n",
       "      <td>[Female, 'DIY, and, crafts',, 'Music',, 'Scien...</td>\n",
       "    </tr>\n",
       "    <tr>\n",
       "      <th>3</th>\n",
       "      <td>4</td>\n",
       "      <td>Eric Yarbrough</td>\n",
       "      <td>[Male]</td>\n",
       "      <td>['Outdoor, activities',, 'Cars, and, automobil...</td>\n",
       "      <td>[Matera]</td>\n",
       "      <td>[Italy]</td>\n",
       "      <td>[Male, 'Outdoor, activities',, 'Cars, and, aut...</td>\n",
       "    </tr>\n",
       "    <tr>\n",
       "      <th>4</th>\n",
       "      <td>5</td>\n",
       "      <td>Daniel Adkins</td>\n",
       "      <td>[Female]</td>\n",
       "      <td>['Politics',, 'History']</td>\n",
       "      <td>[Biruaca]</td>\n",
       "      <td>[Venezuela]</td>\n",
       "      <td>[Female, 'Politics',, 'History', Biruaca, Vene...</td>\n",
       "    </tr>\n",
       "  </tbody>\n",
       "</table>\n",
       "</div>"
      ],
      "text/plain": [
       "   userid                name    gender  \\\n",
       "0       1       Jesse Lawhorn  [Female]   \n",
       "1       2         Stacy Payne  [Female]   \n",
       "2       3  Katrina Nicewander  [Female]   \n",
       "3       4      Eric Yarbrough    [Male]   \n",
       "4       5       Daniel Adkins  [Female]   \n",
       "\n",
       "                                           interests             city  \\\n",
       "0       ['Movies',, 'Fashion',, 'Fashion',, 'Books']        [Sibolga]   \n",
       "1  ['Gaming',, 'Finance, and, investments',, 'Out...      [Al, Abyār]   \n",
       "2  ['DIY, and, crafts',, 'Music',, 'Science',, 'F...  [Wādī, as, Sīr]   \n",
       "3  ['Outdoor, activities',, 'Cars, and, automobil...         [Matera]   \n",
       "4                           ['Politics',, 'History']        [Biruaca]   \n",
       "\n",
       "       country                                            details  \n",
       "0  [Indonesia]  [Female, 'Movies',, 'Fashion',, 'Fashion',, 'B...  \n",
       "1      [Libya]  [Female, 'Gaming',, 'Finance, and, investments...  \n",
       "2     [Jordan]  [Female, 'DIY, and, crafts',, 'Music',, 'Scien...  \n",
       "3      [Italy]  [Male, 'Outdoor, activities',, 'Cars, and, aut...  \n",
       "4  [Venezuela]  [Female, 'Politics',, 'History', Biruaca, Vene...  "
      ]
     },
     "execution_count": 9,
     "metadata": {},
     "output_type": "execute_result"
    }
   ],
   "source": [
    "df['details'] = df['gender'] + df['interests'] + df['city'] + df['country']\n",
    "df.head()"
   ]
  },
  {
   "cell_type": "code",
   "execution_count": 10,
   "id": "5ddc5d6c",
   "metadata": {},
   "outputs": [
    {
     "data": {
      "text/html": [
       "<div>\n",
       "<style scoped>\n",
       "    .dataframe tbody tr th:only-of-type {\n",
       "        vertical-align: middle;\n",
       "    }\n",
       "\n",
       "    .dataframe tbody tr th {\n",
       "        vertical-align: top;\n",
       "    }\n",
       "\n",
       "    .dataframe thead th {\n",
       "        text-align: right;\n",
       "    }\n",
       "</style>\n",
       "<table border=\"1\" class=\"dataframe\">\n",
       "  <thead>\n",
       "    <tr style=\"text-align: right;\">\n",
       "      <th></th>\n",
       "      <th>userid</th>\n",
       "      <th>name</th>\n",
       "      <th>details</th>\n",
       "    </tr>\n",
       "  </thead>\n",
       "  <tbody>\n",
       "    <tr>\n",
       "      <th>0</th>\n",
       "      <td>1</td>\n",
       "      <td>Jesse Lawhorn</td>\n",
       "      <td>[Female, 'Movies',, 'Fashion',, 'Fashion',, 'B...</td>\n",
       "    </tr>\n",
       "    <tr>\n",
       "      <th>1</th>\n",
       "      <td>2</td>\n",
       "      <td>Stacy Payne</td>\n",
       "      <td>[Female, 'Gaming',, 'Finance, and, investments...</td>\n",
       "    </tr>\n",
       "    <tr>\n",
       "      <th>2</th>\n",
       "      <td>3</td>\n",
       "      <td>Katrina Nicewander</td>\n",
       "      <td>[Female, 'DIY, and, crafts',, 'Music',, 'Scien...</td>\n",
       "    </tr>\n",
       "    <tr>\n",
       "      <th>3</th>\n",
       "      <td>4</td>\n",
       "      <td>Eric Yarbrough</td>\n",
       "      <td>[Male, 'Outdoor, activities',, 'Cars, and, aut...</td>\n",
       "    </tr>\n",
       "    <tr>\n",
       "      <th>4</th>\n",
       "      <td>5</td>\n",
       "      <td>Daniel Adkins</td>\n",
       "      <td>[Female, 'Politics',, 'History', Biruaca, Vene...</td>\n",
       "    </tr>\n",
       "  </tbody>\n",
       "</table>\n",
       "</div>"
      ],
      "text/plain": [
       "   userid                name  \\\n",
       "0       1       Jesse Lawhorn   \n",
       "1       2         Stacy Payne   \n",
       "2       3  Katrina Nicewander   \n",
       "3       4      Eric Yarbrough   \n",
       "4       5       Daniel Adkins   \n",
       "\n",
       "                                             details  \n",
       "0  [Female, 'Movies',, 'Fashion',, 'Fashion',, 'B...  \n",
       "1  [Female, 'Gaming',, 'Finance, and, investments...  \n",
       "2  [Female, 'DIY, and, crafts',, 'Music',, 'Scien...  \n",
       "3  [Male, 'Outdoor, activities',, 'Cars, and, aut...  \n",
       "4  [Female, 'Politics',, 'History', Biruaca, Vene...  "
      ]
     },
     "execution_count": 10,
     "metadata": {},
     "output_type": "execute_result"
    }
   ],
   "source": [
    "df.drop(['gender','interests','city','country'],axis=1,inplace=True)\n",
    "df.head()"
   ]
  },
  {
   "cell_type": "code",
   "execution_count": 11,
   "id": "d87e26b5",
   "metadata": {},
   "outputs": [],
   "source": [
    "df['details'] = df['details'].apply(lambda x:\" \".join(x))"
   ]
  },
  {
   "cell_type": "markdown",
   "id": "c2902629",
   "metadata": {},
   "source": [
    "### performing text preprocessing on the user's info"
   ]
  },
  {
   "cell_type": "code",
   "execution_count": 12,
   "id": "f54614d6",
   "metadata": {},
   "outputs": [],
   "source": [
    "import re\n",
    "def preprocess_text(sent):\n",
    "    tag_pattern = re.compile(r'<.*?>')\n",
    "    url_pattern = re.compile(r'https?://\\S+|www\\.\\S+')\n",
    "    # Removing Punctuation & Special Characters\n",
    "    sent = re.sub('[^a-zA-Z]',' ',sent)\n",
    "    # Removal of HTML Tags\n",
    "    sent = re.sub(tag_pattern, '', sent)\n",
    "    # lowercasing\n",
    "    sent = sent.lower()\n",
    "    # removing single character\n",
    "    sent = re.sub(r\"\\s+[a-zA-Z]\\s+\",' ',sent)\n",
    "    # removing multiple spaces\n",
    "    sent = re.sub(r'\\s+',' ',sent)\n",
    "    # Removal of URLs\n",
    "    sent = re.sub(url_pattern,'',sent)\n",
    "    return sent"
   ]
  },
  {
   "cell_type": "code",
   "execution_count": 13,
   "id": "7d267e2b",
   "metadata": {},
   "outputs": [],
   "source": [
    "df['details'] = df['details'].apply(preprocess_text)"
   ]
  },
  {
   "cell_type": "code",
   "execution_count": 14,
   "id": "79518d52",
   "metadata": {},
   "outputs": [
    {
     "data": {
      "text/html": [
       "<div>\n",
       "<style scoped>\n",
       "    .dataframe tbody tr th:only-of-type {\n",
       "        vertical-align: middle;\n",
       "    }\n",
       "\n",
       "    .dataframe tbody tr th {\n",
       "        vertical-align: top;\n",
       "    }\n",
       "\n",
       "    .dataframe thead th {\n",
       "        text-align: right;\n",
       "    }\n",
       "</style>\n",
       "<table border=\"1\" class=\"dataframe\">\n",
       "  <thead>\n",
       "    <tr style=\"text-align: right;\">\n",
       "      <th></th>\n",
       "      <th>userid</th>\n",
       "      <th>name</th>\n",
       "      <th>details</th>\n",
       "    </tr>\n",
       "  </thead>\n",
       "  <tbody>\n",
       "    <tr>\n",
       "      <th>0</th>\n",
       "      <td>1</td>\n",
       "      <td>Jesse Lawhorn</td>\n",
       "      <td>female movies fashion fashion books sibolga in...</td>\n",
       "    </tr>\n",
       "    <tr>\n",
       "      <th>1</th>\n",
       "      <td>2</td>\n",
       "      <td>Stacy Payne</td>\n",
       "      <td>female gaming finance and investments outdoor ...</td>\n",
       "    </tr>\n",
       "    <tr>\n",
       "      <th>2</th>\n",
       "      <td>3</td>\n",
       "      <td>Katrina Nicewander</td>\n",
       "      <td>female diy and crafts music science fashion d ...</td>\n",
       "    </tr>\n",
       "    <tr>\n",
       "      <th>3</th>\n",
       "      <td>4</td>\n",
       "      <td>Eric Yarbrough</td>\n",
       "      <td>male outdoor activities cars and automobiles m...</td>\n",
       "    </tr>\n",
       "    <tr>\n",
       "      <th>4</th>\n",
       "      <td>5</td>\n",
       "      <td>Daniel Adkins</td>\n",
       "      <td>female politics history biruaca venezuela</td>\n",
       "    </tr>\n",
       "  </tbody>\n",
       "</table>\n",
       "</div>"
      ],
      "text/plain": [
       "   userid                name  \\\n",
       "0       1       Jesse Lawhorn   \n",
       "1       2         Stacy Payne   \n",
       "2       3  Katrina Nicewander   \n",
       "3       4      Eric Yarbrough   \n",
       "4       5       Daniel Adkins   \n",
       "\n",
       "                                             details  \n",
       "0  female movies fashion fashion books sibolga in...  \n",
       "1  female gaming finance and investments outdoor ...  \n",
       "2  female diy and crafts music science fashion d ...  \n",
       "3  male outdoor activities cars and automobiles m...  \n",
       "4          female politics history biruaca venezuela  "
      ]
     },
     "execution_count": 14,
     "metadata": {},
     "output_type": "execute_result"
    }
   ],
   "source": [
    "df.head()"
   ]
  },
  {
   "cell_type": "code",
   "execution_count": 15,
   "id": "025c1346",
   "metadata": {},
   "outputs": [],
   "source": [
    "from sklearn.feature_extraction.text import TfidfVectorizer\n",
    "from sklearn.metrics.pairwise import sigmoid_kernel,cosine_similarity\n",
    "from scipy.sparse import csr_matrix"
   ]
  },
  {
   "cell_type": "markdown",
   "id": "4b23b52d",
   "metadata": {},
   "source": [
    "### creating numerical representation of the users' info"
   ]
  },
  {
   "cell_type": "code",
   "execution_count": 16,
   "id": "7b8a1a24",
   "metadata": {},
   "outputs": [],
   "source": [
    "#creating a matrix\n",
    "vect = TfidfVectorizer()\n",
    "matrix = vect.fit_transform(df['details'])"
   ]
  },
  {
   "cell_type": "code",
   "execution_count": 17,
   "id": "214d9a9f",
   "metadata": {},
   "outputs": [
    {
     "data": {
      "text/plain": [
       "(5000, 5285)"
      ]
     },
     "execution_count": 17,
     "metadata": {},
     "output_type": "execute_result"
    }
   ],
   "source": [
    "matrix.shape"
   ]
  },
  {
   "cell_type": "code",
   "execution_count": 18,
   "id": "76ebb1af",
   "metadata": {},
   "outputs": [
    {
     "data": {
      "text/plain": [
       "<5000x5285 sparse matrix of type '<class 'numpy.float64'>'\n",
       "\twith 40214 stored elements in Compressed Sparse Row format>"
      ]
     },
     "execution_count": 18,
     "metadata": {},
     "output_type": "execute_result"
    }
   ],
   "source": [
    "matrix"
   ]
  },
  {
   "cell_type": "markdown",
   "id": "c36c0268",
   "metadata": {},
   "source": [
    "### creating cosine similarity of the matrix"
   ]
  },
  {
   "cell_type": "code",
   "execution_count": 19,
   "id": "5b72a46f",
   "metadata": {},
   "outputs": [],
   "source": [
    "cosine = cosine_similarity(matrix)"
   ]
  },
  {
   "cell_type": "code",
   "execution_count": 20,
   "id": "a5870273",
   "metadata": {},
   "outputs": [
    {
     "data": {
      "text/plain": [
       "(5000, 5000)"
      ]
     },
     "execution_count": 20,
     "metadata": {},
     "output_type": "execute_result"
    }
   ],
   "source": [
    "cosine.shape"
   ]
  },
  {
   "cell_type": "code",
   "execution_count": 21,
   "id": "4fde8771",
   "metadata": {},
   "outputs": [
    {
     "data": {
      "text/plain": [
       "array([[1.        , 0.01484567, 0.1082227 , ..., 0.13064241, 0.        ,\n",
       "        0.01615376],\n",
       "       [0.01484567, 1.        , 0.02583084, ..., 0.01732188, 0.06967475,\n",
       "        0.0461512 ],\n",
       "       [0.1082227 , 0.02583084, 1.        , ..., 0.0731007 , 0.        ,\n",
       "        0.18056014],\n",
       "       ...,\n",
       "       [0.13064241, 0.01732188, 0.0731007 , ..., 1.        , 0.        ,\n",
       "        0.01884816],\n",
       "       [0.        , 0.06967475, 0.        , ..., 0.        , 1.        ,\n",
       "        0.        ],\n",
       "       [0.01615376, 0.0461512 , 0.18056014, ..., 0.01884816, 0.        ,\n",
       "        1.        ]])"
      ]
     },
     "execution_count": 21,
     "metadata": {},
     "output_type": "execute_result"
    }
   ],
   "source": [
    "cosine"
   ]
  },
  {
   "cell_type": "code",
   "execution_count": 22,
   "id": "da7b033c",
   "metadata": {},
   "outputs": [],
   "source": [
    "crs = csr_matrix(matrix)"
   ]
  },
  {
   "cell_type": "markdown",
   "id": "337058a7",
   "metadata": {},
   "source": [
    "### performing recomendation"
   ]
  },
  {
   "cell_type": "code",
   "execution_count": 23,
   "id": "5aadad82",
   "metadata": {},
   "outputs": [],
   "source": [
    "#making recommendation\n",
    "def reccomend(new_person):\n",
    "    # obtaining the index of the new person from the dataframe\n",
    "    ind = df[df['name'] == new_person].index[0]\n",
    "    #'cosine[ind]' obtains the similarity for the 'new person','list(enumerate())'  creates a list of an \n",
    "    # iterable that produces pairs of (index, value),'sorted' sorts the list, 'reverse=True' sorts\n",
    "    # the list in descending order rather than default ascending order,'key = lambda x:x[1]' specifies that \n",
    "    # list should be sorted using the similarity not its index i.e [(3,0.98),(2,0.67),(1,0.45)]\n",
    "    distance = sorted(list(enumerate(cosine[ind])),reverse = True,key = lambda x: x[1])\n",
    "    for i in distance[1:6]:\n",
    "        print(df['name'].iloc[i[0]])"
   ]
  },
  {
   "cell_type": "code",
   "execution_count": 24,
   "id": "c9719353",
   "metadata": {},
   "outputs": [
    {
     "name": "stdout",
     "output_type": "stream",
     "text": [
      "Katrina Nicewander\n",
      "Beverly Harris\n",
      "James Sass\n",
      "Noel Hardwick\n",
      "Matthew Davis\n"
     ]
    }
   ],
   "source": [
    "reccomend('Raymond Brodersen')"
   ]
  },
  {
   "cell_type": "markdown",
   "id": "98405a7f",
   "metadata": {},
   "source": [
    "### saving objects"
   ]
  },
  {
   "cell_type": "code",
   "execution_count": 25,
   "id": "e83598a5",
   "metadata": {},
   "outputs": [],
   "source": [
    "import pickle\n",
    "pickle.dump(df,open('facebook.pkl','wb'))\n",
    "pickle.dump(cosine,open('facebooksim.pkl','wb'))"
   ]
  },
  {
   "cell_type": "code",
   "execution_count": null,
   "id": "0ff6567c",
   "metadata": {},
   "outputs": [],
   "source": []
  }
 ],
 "metadata": {
  "kernelspec": {
   "display_name": "Python 3 (ipykernel)",
   "language": "python",
   "name": "python3"
  },
  "language_info": {
   "codemirror_mode": {
    "name": "ipython",
    "version": 3
   },
   "file_extension": ".py",
   "mimetype": "text/x-python",
   "name": "python",
   "nbconvert_exporter": "python",
   "pygments_lexer": "ipython3",
   "version": "3.10.9"
  }
 },
 "nbformat": 4,
 "nbformat_minor": 5
}
